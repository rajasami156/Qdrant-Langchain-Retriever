{
 "cells": [
  {
   "cell_type": "code",
   "execution_count": null,
   "metadata": {},
   "outputs": [],
   "source": [
    "from langchain.vectorstores import qdrant\n",
    "from langchain.text_splitter import CharacterTextSplitter\n",
    "from langchain_community.document_loaders import TextLoader\n",
    "from langchain_community.vectorstores import Qdrant\n",
    "from langchain_openai import OpenAIEmbeddings\n",
    "import getpass\n",
    "import os\n",
    "import qdrant_client\n",
    "from qdrant_client.http import models\n",
    "from qdrant_client import QdrantClient"
   ]
  },
  {
   "cell_type": "markdown",
   "metadata": {},
   "source": [
    "### Initilizing the Qdrant Cloud"
   ]
  },
  {
   "cell_type": "code",
   "execution_count": null,
   "metadata": {},
   "outputs": [],
   "source": [
    "# Initialize the QdrantClient with the Qdrant server URL and API key\n",
    "\n",
    "qdrant_client = QdrantClient(\n",
    "    url=\"<--Enter Your Qdrant URL-->\", \n",
    "    api_key=\"Enter Your Qdrant Api key\",\n",
    ")"
   ]
  },
  {
   "cell_type": "markdown",
   "metadata": {},
   "source": [
    "### Creating a Collection\n"
   ]
  },
  {
   "cell_type": "code",
   "execution_count": null,
   "metadata": {},
   "outputs": [],
   "source": [
    "\n",
    "qdrant_client.create_collection(\n",
    "    collection_name=\"<-<-Give a name of your collection-->\",\n",
    "    vectors_config=models.VectorParams(size=1536, distance=models.Distance.COSINE),\n",
    ")"
   ]
  },
  {
   "cell_type": "code",
   "execution_count": null,
   "metadata": {},
   "outputs": [],
   "source": [
    "os.environ[\"OpenAI_API_Key\"] =\"<<--ENTER YOUR API KEY-->>\"\n",
    "embeddings = OpenAIEmbeddings()\n",
    "vector_store = Qdrant(\n",
    "    client=qdrant_client, collection_name=\"new-collection\", \n",
    "    embeddings=embeddings,\n",
    ")\n",
    "\n"
   ]
  },
  {
   "cell_type": "markdown",
   "metadata": {},
   "source": [
    "### Split the texts into Chunks"
   ]
  },
  {
   "cell_type": "code",
   "execution_count": null,
   "metadata": {},
   "outputs": [],
   "source": [
    "def get_chunks(text):\n",
    "    text_splitter = CharacterTextSplitter(\n",
    "        separator = \"/n\",\n",
    "        chunk_size=1000, \n",
    "        chunk_overlap= 200,\n",
    "        length_function=len\n",
    "        )\n",
    "    chunks = text_splitter.split_text(text)\n",
    "    return chunks"
   ]
  },
  {
   "cell_type": "code",
   "execution_count": null,
   "metadata": {},
   "outputs": [],
   "source": [
    "with open('story.txt') as f:\n",
    "    raw_text = f.read()\n",
    "\n",
    "texts=get_chunks(raw_text)\n",
    "vector_store.add_texts(texts)"
   ]
  },
  {
   "cell_type": "code",
   "execution_count": null,
   "metadata": {},
   "outputs": [],
   "source": [
    "from langchain.chains import RetrievalQA\n",
    "from langchain.llms import OpenAI\n",
    "qa = RetrievalQA.from_chain_type( llm=OpenAI(), chain_type = \"stuff\",\n",
    "                                 retriever= vector_store.as_retriever()\n",
    "                                )"
   ]
  },
  {
   "cell_type": "code",
   "execution_count": null,
   "metadata": {},
   "outputs": [],
   "source": [
    "querry = \"Who is Luna?\"\n",
    "response = qa.run(querry)\n",
    "print(response)"
   ]
  }
 ],
 "metadata": {
  "language_info": {
   "name": "python"
  }
 },
 "nbformat": 4,
 "nbformat_minor": 2
}
